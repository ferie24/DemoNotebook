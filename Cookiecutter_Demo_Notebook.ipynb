{
 "cells": [
  {
   "cell_type": "markdown",
   "source": [
    "# Cookiecutter Notebook\n",
    "This is a Notebook to explain the use of the Cookiecutter tool overall and the ArangomlFeatureStore template.\n"
   ],
   "metadata": {
    "collapsed": false,
    "pycharm": {
     "name": "#%% md\n"
    }
   }
  },
  {
   "cell_type": "markdown",
   "source": [
    "## Installing Cookiecutter\n",
    "First of all we have to install cookiecutter, for which we have to create a Virtual Enviroment"
   ],
   "metadata": {
    "collapsed": false,
    "pycharm": {
     "name": "#%% md\n"
    }
   }
  },
  {
   "cell_type": "code",
   "execution_count": 1,
   "outputs": [
    {
     "name": "stdout",
     "output_type": "stream",
     "text": [
      "Error: [Errno 30] Read-only file system: '/CookiecutterProject'\r\n",
      "Requirement already satisfied: cookiecutter in ./venv/lib/python3.8/site-packages (2.1.1)\r\n",
      "Requirement already satisfied: binaryornot>=0.4.4 in ./venv/lib/python3.8/site-packages (from cookiecutter) (0.4.4)\r\n",
      "Requirement already satisfied: click<9.0.0,>=7.0 in ./venv/lib/python3.8/site-packages (from cookiecutter) (8.1.3)\r\n",
      "Requirement already satisfied: pyyaml>=5.3.1 in ./venv/lib/python3.8/site-packages (from cookiecutter) (6.0)\r\n",
      "Requirement already satisfied: jinja2-time>=0.2.0 in ./venv/lib/python3.8/site-packages (from cookiecutter) (0.2.0)\r\n",
      "Requirement already satisfied: Jinja2<4.0.0,>=2.7 in ./venv/lib/python3.8/site-packages (from cookiecutter) (3.1.2)\r\n",
      "Requirement already satisfied: python-slugify>=4.0.0 in ./venv/lib/python3.8/site-packages (from cookiecutter) (6.1.2)\r\n",
      "Requirement already satisfied: requests>=2.23.0 in ./venv/lib/python3.8/site-packages (from cookiecutter) (2.28.1)\r\n",
      "Requirement already satisfied: chardet>=3.0.2 in ./venv/lib/python3.8/site-packages (from binaryornot>=0.4.4->cookiecutter) (5.0.0)\r\n",
      "Requirement already satisfied: MarkupSafe>=2.0 in ./venv/lib/python3.8/site-packages (from Jinja2<4.0.0,>=2.7->cookiecutter) (2.1.1)\r\n",
      "Requirement already satisfied: arrow in ./venv/lib/python3.8/site-packages (from jinja2-time>=0.2.0->cookiecutter) (1.2.3)\r\n",
      "Requirement already satisfied: text-unidecode>=1.3 in ./venv/lib/python3.8/site-packages (from python-slugify>=4.0.0->cookiecutter) (1.3)\r\n",
      "Requirement already satisfied: charset-normalizer<3,>=2 in ./venv/lib/python3.8/site-packages (from requests>=2.23.0->cookiecutter) (2.1.1)\r\n",
      "Requirement already satisfied: idna<4,>=2.5 in ./venv/lib/python3.8/site-packages (from requests>=2.23.0->cookiecutter) (3.4)\r\n",
      "Requirement already satisfied: certifi>=2017.4.17 in ./venv/lib/python3.8/site-packages (from requests>=2.23.0->cookiecutter) (2022.6.15.2)\r\n",
      "Requirement already satisfied: urllib3<1.27,>=1.21.1 in ./venv/lib/python3.8/site-packages (from requests>=2.23.0->cookiecutter) (1.26.12)\r\n",
      "Requirement already satisfied: python-dateutil>=2.7.0 in ./venv/lib/python3.8/site-packages (from arrow->jinja2-time>=0.2.0->cookiecutter) (2.8.2)\r\n",
      "Requirement already satisfied: six>=1.5 in ./venv/lib/python3.8/site-packages (from python-dateutil>=2.7.0->arrow->jinja2-time>=0.2.0->cookiecutter) (1.16.0)\r\n",
      "\u001B[33mWARNING: You are using pip version 21.3.1; however, version 22.2.2 is available.\r\n",
      "You should consider upgrading via the '/Users/felixriemen/PycharmProjects/DemoNotebook/venv/bin/python -m pip install --upgrade pip' command.\u001B[0m\r\n"
     ]
    }
   ],
   "source": [
    "!mkdir CookiecutterProject\n",
    "!python3 -m venv /CookiecutterProject\n",
    "!pip3 install cookiecutter\n",
    "!cd CookiecutterProject"
   ],
   "metadata": {
    "collapsed": false,
    "pycharm": {
     "name": "#%%\n"
    }
   }
  },
  {
   "cell_type": "markdown",
   "source": [
    "## Once installed we can start creating Project from templates\n",
    "There are a lot of templates online for the various different projects you can do. You can find a good selection [here](https://cookiecutter-templates.sebastianruml.name/).\n",
    "A few examples of what you can find are for example a [PyPI-Package-Template](https://github.com/audreyfeldroy/cookiecutter-pypackage)\n",
    "\n",
    "### Installing a template\n",
    "A template is very easy to install, you can either select a github repo to clone from like this(you have to be in a venv for it to work):"
   ],
   "metadata": {
    "collapsed": false,
    "pycharm": {
     "name": "#%% md\n"
    }
   }
  },
  {
   "cell_type": "code",
   "execution_count": 1,
   "outputs": [
    {
     "ename": "SyntaxError",
     "evalue": "invalid syntax (3070674809.py, line 1)",
     "output_type": "error",
     "traceback": [
      "\u001B[0;36m  Cell \u001B[0;32mIn [1], line 1\u001B[0;36m\u001B[0m\n\u001B[0;31m    cookiecutter https://github.com/audreyfeldroy/cookiecutter-pypackage.git\u001B[0m\n\u001B[0m                 ^\u001B[0m\n\u001B[0;31mSyntaxError\u001B[0m\u001B[0;31m:\u001B[0m invalid syntax\n"
     ]
    }
   ],
   "source": [
    "cookiecutter https://github.com/audreyfeldroy/cookiecutter-pypackage.git"
   ],
   "metadata": {
    "collapsed": false,
    "pycharm": {
     "name": "#%%\n"
    }
   }
  },
  {
   "cell_type": "markdown",
   "source": [
    "Alternatively you can select a directory from your computer that is a cookiecutter Template.\n"
   ],
   "metadata": {
    "collapsed": false,
    "pycharm": {
     "name": "#%% md\n"
    }
   }
  },
  {
   "cell_type": "code",
   "execution_count": null,
   "outputs": [],
   "source": [
    "cookiecutter name/of/the/dir"
   ],
   "metadata": {
    "collapsed": false,
    "pycharm": {
     "name": "#%%\n"
    }
   }
  }
 ],
 "metadata": {
  "kernelspec": {
   "display_name": "Python 3",
   "language": "python",
   "name": "python3"
  },
  "language_info": {
   "codemirror_mode": {
    "name": "ipython",
    "version": 2
   },
   "file_extension": ".py",
   "mimetype": "text/x-python",
   "name": "python",
   "nbconvert_exporter": "python",
   "pygments_lexer": "ipython2",
   "version": "2.7.6"
  }
 },
 "nbformat": 4,
 "nbformat_minor": 0
}