{
 "cells": [
  {
   "cell_type": "markdown",
   "source": [
    "# Cookiecutter Notebook\n",
    "This is a Notebook to explain the use of the Cookiecutter tool overall and the ArangomlFeatureStore template.\n"
   ],
   "metadata": {
    "collapsed": false,
    "pycharm": {
     "name": "#%% md\n"
    }
   }
  },
  {
   "cell_type": "markdown",
   "source": [
    "## What is Cookiecutter\n",
    "Cookiecutter is a tool that enables you to download and customise pre-set templates. You simply have to install the Cookiecutter-Tool and you are good to go. When you apply the tool on a template it will prompt you for some input for the customisation, which will look close to this, depending on the Level of customisation:"
   ],
   "metadata": {
    "collapsed": false,
    "pycharm": {
     "name": "#%% md\n"
    }
   }
  },
  {
   "cell_type": "markdown",
   "source": [
    "*full_name [Rajiv Sambasivan]: <br>\n",
    "email [hackers@arangodb.com]: <br>\n",
    "github_username [arangoml]: <br>\n",
    "project_name [arangomlFeatureStore]:  <br>\n",
    "project_slug [arangomlfeaturestore]:  <br>\n",
    "project_short_description [A python package to read and write ML features to ArangoDB]:  <br>\n",
    "pypi_username [arangoml]:  <br>\n",
    "version [0.0.7.5]:  <br>\n",
    "use_black [n]:  <br>\n",
    "use_pytest [n]:  <br>\n",
    "Select command_line_interface:  <br>\n",
    "1 - Click  <br>\n",
    "2 - Argparse  <br>\n",
    "3 - No command-line interface  <br>\n",
    "Choose from 1, 2, 3 [1]:  <br>\n",
    "create_author_file [y]:  <br>\n",
    "Select open_source_license:  <br>\n",
    "1 - MIT license  <br>\n",
    "2 - BSD license  <br>\n",
    "3 - ISC license  <br>\n",
    "4 - Apache Software License 2.0  <br>\n",
    "5 - GNU General Public License v3  <br>\n",
    "6 - Not open source  <br>\n",
    "Choose from 1, 2, 3, 4, 5, 6 [1]:  <br>*"
   ],
   "metadata": {
    "collapsed": false,
    "pycharm": {
     "name": "#%% md\n"
    }
   }
  },
  {
   "cell_type": "markdown",
   "source": [
    "Once you have answered these questions, you are good to go to start with you project."
   ],
   "metadata": {
    "collapsed": false,
    "pycharm": {
     "name": "#%% md\n"
    }
   }
  },
  {
   "cell_type": "markdown",
   "source": [
    "## Installing Cookiecutter\n",
    "First of all we have to install cookiecutter, for which we have to create a Virtual Environment"
   ],
   "metadata": {
    "collapsed": false,
    "pycharm": {
     "name": "#%% md\n"
    }
   }
  },
  {
   "cell_type": "code",
   "execution_count": null,
   "outputs": [],
   "source": [
    "!mkdir CookiecutterProject\n",
    "!pip3 install virtualenv\n",
    "!venv CookiecutterProject/\n",
    "!pip3 install cookiecutter\n",
    "!cd CookiecutterProject"
   ],
   "metadata": {
    "collapsed": false,
    "pycharm": {
     "name": "#%%\n"
    }
   }
  },
  {
   "cell_type": "markdown",
   "source": [
    "## Once installed we can start creating Project from templates\n",
    "There are a lot of templates online for the various different projects you can do. You can find a good selection [here](https://cookiecutter-templates.sebastianruml.name/).\n",
    "A few examples of what you can find are for example a [PyPI-Package-Template](https://github.com/audreyfeldroy/cookiecutter-pypackage)\n",
    "\n",
    "### Installing a template\n",
    "A template is very easy to install, you can either select a github repo to clone from like this (you have to be in a venv for it to work):"
   ],
   "metadata": {
    "collapsed": false,
    "pycharm": {
     "name": "#%% md\n"
    }
   }
  },
  {
   "cell_type": "markdown",
   "source": [
    "!source CookiecutterProject/bin/active\n",
    "!cookiecutter https://github.com/audreyfeldroy/cookiecutter-pypackage.git"
   ],
   "metadata": {
    "collapsed": false,
    "pycharm": {
     "name": "#%% md\n"
    }
   }
  },
  {
   "cell_type": "markdown",
   "source": [
    "Alternatively you can select a directory from your computer that is a cookiecutter Template.\n"
   ],
   "metadata": {
    "collapsed": false,
    "pycharm": {
     "name": "#%% md\n"
    }
   }
  },
  {
   "cell_type": "code",
   "execution_count": null,
   "outputs": [],
   "source": [
    "cookiecutter name/of/the/dir"
   ],
   "metadata": {
    "collapsed": false,
    "pycharm": {
     "name": "#%%\n"
    }
   }
  },
  {
   "cell_type": "markdown",
   "source": [
    "## The ArangomlFeatureStore template\n",
    "This installation is a bit different since it is not in the default branch of the FeautreStore repo. It is located in the felix_packaging_branch"
   ],
   "metadata": {
    "collapsed": false,
    "pycharm": {
     "name": "#%% md\n"
    }
   }
  },
  {
   "cell_type": "code",
   "execution_count": null,
   "outputs": [],
   "source": [
    "!git clone https://github.com/arangoml/arangomlFeatureStore\n",
    "\n",
    "!git -C arangomlFeatureStore/ checkout felix_packaging_branch\n",
    "!git -C arangomlFeatureStore/ branch\n",
    "\n",
    "!cookiecutter content/arangomlFeatureStore/"
   ],
   "metadata": {
    "collapsed": false,
    "pycharm": {
     "name": "#%%\n"
    }
   }
  },
  {
   "cell_type": "markdown",
   "source": [
    "Once you have exported the template"
   ],
   "metadata": {
    "collapsed": false,
    "pycharm": {
     "name": "#%% md\n"
    }
   }
  }
 ],
 "metadata": {
  "kernelspec": {
   "display_name": "Python 3",
   "language": "python",
   "name": "python3"
  },
  "language_info": {
   "codemirror_mode": {
    "name": "ipython",
    "version": 2
   },
   "file_extension": ".py",
   "mimetype": "text/x-python",
   "name": "python",
   "nbconvert_exporter": "python",
   "pygments_lexer": "ipython2",
   "version": "2.7.6"
  }
 },
 "nbformat": 4,
 "nbformat_minor": 0
}