{
 "cells": [
  {
   "cell_type": "markdown",
   "metadata": {
    "pycharm": {
     "name": "#%% md\n"
    }
   },
   "source": [
    "# Cookiecutter Notebook\n",
    "This is a Notebook to explain the use of the Cookiecutter tool overall and the ArangomlFeatureStore template. It is split up in: <br>\n",
    "#### What is Cookiecutter\n",
    "#### Installing Cookiecutter\n",
    "#### Creating Projects from templates\n",
    "#### How to use Cookiecutter\n",
    "#### What does Cookiecutter do\n",
    "#### ArangomlFeatureStore\n",
    "####"
   ]
  },
  {
   "cell_type": "markdown",
   "metadata": {
    "pycharm": {
     "name": "#%% md\n"
    }
   },
   "source": [
    "## What is Cookiecutter\n",
    "Cookiecutter is a tool that enables you to download and customise pre-set templates. You simply have to install the Cookiecutter-Tool and you are good to go. When you apply the tool on a template it will prompt you for some input for the customisation, which will look close to this, depending on the Level of customisation:"
   ]
  },
  {
   "cell_type": "markdown",
   "metadata": {
    "pycharm": {
     "name": "#%% md\n"
    }
   },
   "source": [
    "> *full_name [Rajiv Sambasivan]: <br>\n",
    "email [hackers@arangodb.com]: <br>\n",
    "github_username [arangoml]: <br>\n",
    "project_name [arangomlFeatureStore]:  <br>\n",
    "project_slug [arangomlfeaturestore]:  <br>\n",
    "project_short_description [A python package to read and write ML features to ArangoDB]:  <br>\n",
    "pypi_username [arangoml]:  <br>\n",
    "version [0.0.7.5]:  <br>\n",
    "use_black [n]:  <br>\n",
    "use_pytest [n]:  <br>\n",
    "Select command_line_interface:  <br>\n",
    "1 - Click  <br>\n",
    "2 - Argparse  <br>\n",
    "3 - No command-line interface  <br>\n",
    "Choose from 1, 2, 3 [1]:  <br>\n",
    "create_author_file [y]:  <br>\n",
    "Select open_source_license:  <br>\n",
    "1 - MIT license  <br>\n",
    "2 - BSD license  <br>\n",
    "3 - ISC license  <br>\n",
    "4 - Apache Software License 2.0  <br>\n",
    "5 - GNU General Public License v3  <br>\n",
    "6 - Not open source  <br>\n",
    "Choose from 1, 2, 3, 4, 5, 6 [1]:  <br>*"
   ]
  },
  {
   "cell_type": "markdown",
   "metadata": {
    "pycharm": {
     "name": "#%% md\n"
    }
   },
   "source": [
    "Once you have answered these questions, you are good to go to start with you project. You will have a better understanding of what cookiecutter does, once you have used it. Which brings us to our next step, installing Cookiecutter."
   ]
  },
  {
   "cell_type": "markdown",
   "metadata": {
    "pycharm": {
     "name": "#%% md\n"
    }
   },
   "source": [
    "## Installing Cookiecutter\n",
    "For the installation we have to create a virtual enviroment and then install cookiecutter with pip."
   ]
  },
  {
   "cell_type": "code",
   "execution_count": 2,
   "metadata": {
    "pycharm": {
     "name": "#%%\n"
    }
   },
   "outputs": [],
   "source": [
    "%%capture\n",
    "!mkdir CookiecutterProject\n",
    "!pip3 install virtualenv\n",
    "!venv CookiecutterProject/\n",
    "!pip3 install cookiecutter\n",
    "!cd CookiecutterProject\n",
    "!source CookiecutterProject/bin/active"
   ]
  },
  {
   "cell_type": "markdown",
   "metadata": {
    "pycharm": {
     "name": "#%% md\n"
    }
   },
   "source": [
    "## Creating Project from templates\n",
    "There are a lot of templates online for the various different projects you can do. You can find a good selection [here](https://cookiecutter-templates.sebastianruml.name/).\n",
    "The template used for this demo is this [PyPI-Package-Template](https://github.com/audreyfeldroy/cookiecutter-pypackage)\n",
    "Alternatively you have a [PyLibrary-Template](https://github.com/ionelmc/cookiecutter-pylibrary) or a [FastAPI-Template](https://github.com/s3rius/FastAPI-template).\n",
    "### Installing a template\n",
    "A template is very easy to install, you can select a github repo to clone like this (you have to be in a venv for it to work):"
   ]
  },
  {
   "cell_type": "code",
   "execution_count": 3,
   "metadata": {
    "pycharm": {
     "name": "#%%\n"
    }
   },
   "outputs": [
    {
     "name": "stdout",
     "output_type": "stream",
     "text": [
      "You've downloaded /Users/felixriemen/.cookiecutters/cookiecutter-pypackage before. Is it okay to delete and re-download it? [yes]: "
     ]
    },
    {
     "ename": "KeyboardInterrupt",
     "evalue": "",
     "output_type": "error",
     "traceback": [
      "\u001B[0;31m---------------------------------------------------------------------------\u001B[0m",
      "\u001B[0;31mKeyboardInterrupt\u001B[0m                         Traceback (most recent call last)",
      "File \u001B[0;32m~/PycharmProjects/DemoNotebook/venv/lib/python3.9/site-packages/IPython/utils/_process_posix.py:153\u001B[0m, in \u001B[0;36mProcessHandler.system\u001B[0;34m(self, cmd)\u001B[0m\n\u001B[1;32m    150\u001B[0m \u001B[38;5;28;01mwhile\u001B[39;00m \u001B[38;5;28;01mTrue\u001B[39;00m:\n\u001B[1;32m    151\u001B[0m     \u001B[38;5;66;03m# res is the index of the pattern that caused the match, so we\u001B[39;00m\n\u001B[1;32m    152\u001B[0m     \u001B[38;5;66;03m# know whether we've finished (if we matched EOF) or not\u001B[39;00m\n\u001B[0;32m--> 153\u001B[0m     res_idx \u001B[38;5;241m=\u001B[39m \u001B[43mchild\u001B[49m\u001B[38;5;241;43m.\u001B[39;49m\u001B[43mexpect_list\u001B[49m\u001B[43m(\u001B[49m\u001B[43mpatterns\u001B[49m\u001B[43m,\u001B[49m\u001B[43m \u001B[49m\u001B[38;5;28;43mself\u001B[39;49m\u001B[38;5;241;43m.\u001B[39;49m\u001B[43mread_timeout\u001B[49m\u001B[43m)\u001B[49m\n\u001B[1;32m    154\u001B[0m     \u001B[38;5;28mprint\u001B[39m(child\u001B[38;5;241m.\u001B[39mbefore[out_size:]\u001B[38;5;241m.\u001B[39mdecode(enc, \u001B[38;5;124m'\u001B[39m\u001B[38;5;124mreplace\u001B[39m\u001B[38;5;124m'\u001B[39m), end\u001B[38;5;241m=\u001B[39m\u001B[38;5;124m'\u001B[39m\u001B[38;5;124m'\u001B[39m)\n",
      "File \u001B[0;32m~/PycharmProjects/DemoNotebook/venv/lib/python3.9/site-packages/pexpect/spawnbase.py:372\u001B[0m, in \u001B[0;36mSpawnBase.expect_list\u001B[0;34m(self, pattern_list, timeout, searchwindowsize, async_, **kw)\u001B[0m\n\u001B[1;32m    371\u001B[0m \u001B[38;5;28;01melse\u001B[39;00m:\n\u001B[0;32m--> 372\u001B[0m     \u001B[38;5;28;01mreturn\u001B[39;00m \u001B[43mexp\u001B[49m\u001B[38;5;241;43m.\u001B[39;49m\u001B[43mexpect_loop\u001B[49m\u001B[43m(\u001B[49m\u001B[43mtimeout\u001B[49m\u001B[43m)\u001B[49m\n",
      "File \u001B[0;32m~/PycharmProjects/DemoNotebook/venv/lib/python3.9/site-packages/pexpect/expect.py:169\u001B[0m, in \u001B[0;36mExpecter.expect_loop\u001B[0;34m(self, timeout)\u001B[0m\n\u001B[1;32m    168\u001B[0m \u001B[38;5;66;03m# Still have time left, so read more data\u001B[39;00m\n\u001B[0;32m--> 169\u001B[0m incoming \u001B[38;5;241m=\u001B[39m \u001B[43mspawn\u001B[49m\u001B[38;5;241;43m.\u001B[39;49m\u001B[43mread_nonblocking\u001B[49m\u001B[43m(\u001B[49m\u001B[43mspawn\u001B[49m\u001B[38;5;241;43m.\u001B[39;49m\u001B[43mmaxread\u001B[49m\u001B[43m,\u001B[49m\u001B[43m \u001B[49m\u001B[43mtimeout\u001B[49m\u001B[43m)\u001B[49m\n\u001B[1;32m    170\u001B[0m \u001B[38;5;28;01mif\u001B[39;00m \u001B[38;5;28mself\u001B[39m\u001B[38;5;241m.\u001B[39mspawn\u001B[38;5;241m.\u001B[39mdelayafterread \u001B[38;5;129;01mis\u001B[39;00m \u001B[38;5;129;01mnot\u001B[39;00m \u001B[38;5;28;01mNone\u001B[39;00m:\n",
      "File \u001B[0;32m~/PycharmProjects/DemoNotebook/venv/lib/python3.9/site-packages/pexpect/pty_spawn.py:500\u001B[0m, in \u001B[0;36mspawn.read_nonblocking\u001B[0;34m(self, size, timeout)\u001B[0m\n\u001B[1;32m    497\u001B[0m \u001B[38;5;66;03m# Because of the select(0) check above, we know that no data\u001B[39;00m\n\u001B[1;32m    498\u001B[0m \u001B[38;5;66;03m# is available right now. But if a non-zero timeout is given\u001B[39;00m\n\u001B[1;32m    499\u001B[0m \u001B[38;5;66;03m# (possibly timeout=None), we call select() with a timeout.\u001B[39;00m\n\u001B[0;32m--> 500\u001B[0m \u001B[38;5;28;01mif\u001B[39;00m (timeout \u001B[38;5;241m!=\u001B[39m \u001B[38;5;241m0\u001B[39m) \u001B[38;5;129;01mand\u001B[39;00m \u001B[43mselect\u001B[49m\u001B[43m(\u001B[49m\u001B[43mtimeout\u001B[49m\u001B[43m)\u001B[49m:\n\u001B[1;32m    501\u001B[0m     \u001B[38;5;28;01mreturn\u001B[39;00m \u001B[38;5;28msuper\u001B[39m(spawn, \u001B[38;5;28mself\u001B[39m)\u001B[38;5;241m.\u001B[39mread_nonblocking(size)\n",
      "File \u001B[0;32m~/PycharmProjects/DemoNotebook/venv/lib/python3.9/site-packages/pexpect/pty_spawn.py:450\u001B[0m, in \u001B[0;36mspawn.read_nonblocking.<locals>.select\u001B[0;34m(timeout)\u001B[0m\n\u001B[1;32m    449\u001B[0m \u001B[38;5;28;01mdef\u001B[39;00m \u001B[38;5;21mselect\u001B[39m(timeout):\n\u001B[0;32m--> 450\u001B[0m     \u001B[38;5;28;01mreturn\u001B[39;00m \u001B[43mselect_ignore_interrupts\u001B[49m\u001B[43m(\u001B[49m\u001B[43m[\u001B[49m\u001B[38;5;28;43mself\u001B[39;49m\u001B[38;5;241;43m.\u001B[39;49m\u001B[43mchild_fd\u001B[49m\u001B[43m]\u001B[49m\u001B[43m,\u001B[49m\u001B[43m \u001B[49m\u001B[43m[\u001B[49m\u001B[43m]\u001B[49m\u001B[43m,\u001B[49m\u001B[43m \u001B[49m\u001B[43m[\u001B[49m\u001B[43m]\u001B[49m\u001B[43m,\u001B[49m\u001B[43m \u001B[49m\u001B[43mtimeout\u001B[49m\u001B[43m)\u001B[49m[\u001B[38;5;241m0\u001B[39m]\n",
      "File \u001B[0;32m~/PycharmProjects/DemoNotebook/venv/lib/python3.9/site-packages/pexpect/utils.py:143\u001B[0m, in \u001B[0;36mselect_ignore_interrupts\u001B[0;34m(iwtd, owtd, ewtd, timeout)\u001B[0m\n\u001B[1;32m    142\u001B[0m \u001B[38;5;28;01mtry\u001B[39;00m:\n\u001B[0;32m--> 143\u001B[0m     \u001B[38;5;28;01mreturn\u001B[39;00m \u001B[43mselect\u001B[49m\u001B[38;5;241;43m.\u001B[39;49m\u001B[43mselect\u001B[49m\u001B[43m(\u001B[49m\u001B[43miwtd\u001B[49m\u001B[43m,\u001B[49m\u001B[43m \u001B[49m\u001B[43mowtd\u001B[49m\u001B[43m,\u001B[49m\u001B[43m \u001B[49m\u001B[43mewtd\u001B[49m\u001B[43m,\u001B[49m\u001B[43m \u001B[49m\u001B[43mtimeout\u001B[49m\u001B[43m)\u001B[49m\n\u001B[1;32m    144\u001B[0m \u001B[38;5;28;01mexcept\u001B[39;00m \u001B[38;5;167;01mInterruptedError\u001B[39;00m:\n",
      "\u001B[0;31mKeyboardInterrupt\u001B[0m: ",
      "\nDuring handling of the above exception, another exception occurred:\n",
      "\u001B[0;31mKeyboardInterrupt\u001B[0m                         Traceback (most recent call last)",
      "Cell \u001B[0;32mIn [3], line 1\u001B[0m\n\u001B[0;32m----> 1\u001B[0m \u001B[43mget_ipython\u001B[49m\u001B[43m(\u001B[49m\u001B[43m)\u001B[49m\u001B[38;5;241;43m.\u001B[39;49m\u001B[43msystem\u001B[49m\u001B[43m(\u001B[49m\u001B[38;5;124;43m'\u001B[39;49m\u001B[38;5;124;43mcookiecutter https://github.com/audreyfeldroy/cookiecutter-pypackage.git\u001B[39;49m\u001B[38;5;124;43m'\u001B[39;49m\u001B[43m)\u001B[49m\n",
      "File \u001B[0;32m~/PycharmProjects/DemoNotebook/venv/lib/python3.9/site-packages/ipykernel/zmqshell.py:633\u001B[0m, in \u001B[0;36mZMQInteractiveShell.system_piped\u001B[0;34m(self, cmd)\u001B[0m\n\u001B[1;32m    631\u001B[0m         \u001B[38;5;28mself\u001B[39m\u001B[38;5;241m.\u001B[39muser_ns[\u001B[38;5;124m\"\u001B[39m\u001B[38;5;124m_exit_code\u001B[39m\u001B[38;5;124m\"\u001B[39m] \u001B[38;5;241m=\u001B[39m system(cmd)\n\u001B[1;32m    632\u001B[0m \u001B[38;5;28;01melse\u001B[39;00m:\n\u001B[0;32m--> 633\u001B[0m     \u001B[38;5;28mself\u001B[39m\u001B[38;5;241m.\u001B[39muser_ns[\u001B[38;5;124m\"\u001B[39m\u001B[38;5;124m_exit_code\u001B[39m\u001B[38;5;124m\"\u001B[39m] \u001B[38;5;241m=\u001B[39m \u001B[43msystem\u001B[49m\u001B[43m(\u001B[49m\u001B[38;5;28;43mself\u001B[39;49m\u001B[38;5;241;43m.\u001B[39;49m\u001B[43mvar_expand\u001B[49m\u001B[43m(\u001B[49m\u001B[43mcmd\u001B[49m\u001B[43m,\u001B[49m\u001B[43m \u001B[49m\u001B[43mdepth\u001B[49m\u001B[38;5;241;43m=\u001B[39;49m\u001B[38;5;241;43m1\u001B[39;49m\u001B[43m)\u001B[49m\u001B[43m)\u001B[49m\n",
      "File \u001B[0;32m~/PycharmProjects/DemoNotebook/venv/lib/python3.9/site-packages/IPython/utils/_process_posix.py:164\u001B[0m, in \u001B[0;36mProcessHandler.system\u001B[0;34m(self, cmd)\u001B[0m\n\u001B[1;32m    159\u001B[0m         out_size \u001B[38;5;241m=\u001B[39m \u001B[38;5;28mlen\u001B[39m(child\u001B[38;5;241m.\u001B[39mbefore)\n\u001B[1;32m    160\u001B[0m \u001B[38;5;28;01mexcept\u001B[39;00m \u001B[38;5;167;01mKeyboardInterrupt\u001B[39;00m:\n\u001B[1;32m    161\u001B[0m     \u001B[38;5;66;03m# We need to send ^C to the process.  The ascii code for '^C' is 3\u001B[39;00m\n\u001B[1;32m    162\u001B[0m     \u001B[38;5;66;03m# (the character is known as ETX for 'End of Text', see\u001B[39;00m\n\u001B[1;32m    163\u001B[0m     \u001B[38;5;66;03m# curses.ascii.ETX).\u001B[39;00m\n\u001B[0;32m--> 164\u001B[0m     \u001B[43mchild\u001B[49m\u001B[38;5;241;43m.\u001B[39;49m\u001B[43msendline\u001B[49m\u001B[43m(\u001B[49m\u001B[38;5;28;43mchr\u001B[39;49m\u001B[43m(\u001B[49m\u001B[38;5;241;43m3\u001B[39;49m\u001B[43m)\u001B[49m\u001B[43m)\u001B[49m\n\u001B[1;32m    165\u001B[0m     \u001B[38;5;66;03m# Read and print any more output the program might produce on its\u001B[39;00m\n\u001B[1;32m    166\u001B[0m     \u001B[38;5;66;03m# way out.\u001B[39;00m\n\u001B[1;32m    167\u001B[0m     \u001B[38;5;28;01mtry\u001B[39;00m:\n",
      "File \u001B[0;32m~/PycharmProjects/DemoNotebook/venv/lib/python3.9/site-packages/pexpect/pty_spawn.py:578\u001B[0m, in \u001B[0;36mspawn.sendline\u001B[0;34m(self, s)\u001B[0m\n\u001B[1;32m    572\u001B[0m \u001B[38;5;124;03m'''Wraps send(), sending string ``s`` to child process, with\u001B[39;00m\n\u001B[1;32m    573\u001B[0m \u001B[38;5;124;03m``os.linesep`` automatically appended. Returns number of bytes\u001B[39;00m\n\u001B[1;32m    574\u001B[0m \u001B[38;5;124;03mwritten.  Only a limited number of bytes may be sent for each\u001B[39;00m\n\u001B[1;32m    575\u001B[0m \u001B[38;5;124;03mline in the default terminal mode, see docstring of :meth:`send`.\u001B[39;00m\n\u001B[1;32m    576\u001B[0m \u001B[38;5;124;03m'''\u001B[39;00m\n\u001B[1;32m    577\u001B[0m s \u001B[38;5;241m=\u001B[39m \u001B[38;5;28mself\u001B[39m\u001B[38;5;241m.\u001B[39m_coerce_send_string(s)\n\u001B[0;32m--> 578\u001B[0m \u001B[38;5;28;01mreturn\u001B[39;00m \u001B[38;5;28;43mself\u001B[39;49m\u001B[38;5;241;43m.\u001B[39;49m\u001B[43msend\u001B[49m\u001B[43m(\u001B[49m\u001B[43ms\u001B[49m\u001B[43m \u001B[49m\u001B[38;5;241;43m+\u001B[39;49m\u001B[43m \u001B[49m\u001B[38;5;28;43mself\u001B[39;49m\u001B[38;5;241;43m.\u001B[39;49m\u001B[43mlinesep\u001B[49m\u001B[43m)\u001B[49m\n",
      "File \u001B[0;32m~/PycharmProjects/DemoNotebook/venv/lib/python3.9/site-packages/pexpect/pty_spawn.py:563\u001B[0m, in \u001B[0;36mspawn.send\u001B[0;34m(self, s)\u001B[0m\n\u001B[1;32m    528\u001B[0m \u001B[38;5;124;03m'''Sends string ``s`` to the child process, returning the number of\u001B[39;00m\n\u001B[1;32m    529\u001B[0m \u001B[38;5;124;03mbytes written. If a logfile is specified, a copy is written to that\u001B[39;00m\n\u001B[1;32m    530\u001B[0m \u001B[38;5;124;03mlog.\u001B[39;00m\n\u001B[0;32m   (...)\u001B[0m\n\u001B[1;32m    559\u001B[0m \u001B[38;5;124;03m    >>> bash.sendline('x' * 5000)\u001B[39;00m\n\u001B[1;32m    560\u001B[0m \u001B[38;5;124;03m'''\u001B[39;00m\n\u001B[1;32m    562\u001B[0m \u001B[38;5;28;01mif\u001B[39;00m \u001B[38;5;28mself\u001B[39m\u001B[38;5;241m.\u001B[39mdelaybeforesend \u001B[38;5;129;01mis\u001B[39;00m \u001B[38;5;129;01mnot\u001B[39;00m \u001B[38;5;28;01mNone\u001B[39;00m:\n\u001B[0;32m--> 563\u001B[0m     \u001B[43mtime\u001B[49m\u001B[38;5;241;43m.\u001B[39;49m\u001B[43msleep\u001B[49m\u001B[43m(\u001B[49m\u001B[38;5;28;43mself\u001B[39;49m\u001B[38;5;241;43m.\u001B[39;49m\u001B[43mdelaybeforesend\u001B[49m\u001B[43m)\u001B[49m\n\u001B[1;32m    565\u001B[0m s \u001B[38;5;241m=\u001B[39m \u001B[38;5;28mself\u001B[39m\u001B[38;5;241m.\u001B[39m_coerce_send_string(s)\n\u001B[1;32m    566\u001B[0m \u001B[38;5;28mself\u001B[39m\u001B[38;5;241m.\u001B[39m_log(s, \u001B[38;5;124m'\u001B[39m\u001B[38;5;124msend\u001B[39m\u001B[38;5;124m'\u001B[39m)\n",
      "\u001B[0;31mKeyboardInterrupt\u001B[0m: "
     ]
    }
   ],
   "source": [
    "!cookiecutter https://github.com/audreyfeldroy/cookiecutter-pypackage.git"
   ]
  },
  {
   "cell_type": "markdown",
   "metadata": {
    "pycharm": {
     "name": "#%% md\n"
    }
   },
   "source": [
    "Alternatively you can select a cookiecutter Template, that you already have stored locally. Since this is a Notebook we still have to clone it but the process would be the same."
   ]
  },
  {
   "cell_type": "code",
   "execution_count": null,
   "metadata": {
    "pycharm": {
     "name": "#%%\n"
    }
   },
   "outputs": [],
   "source": [
    "%%capture\n",
    "!git clone https://github.com/audreyfeldroy/cookiecutter-pypackage.git"
   ]
  },
  {
   "cell_type": "markdown",
   "metadata": {
    "pycharm": {
     "name": "#%% md\n"
    }
   },
   "source": [
    "### What does cookiecutter do\n",
    "> This is a good time to check out what cookiecutter does. If you click on the files on the left, you can see the cookiecutter-pypackage folder, when you open it you will see a __cookiecutter.json__ file, which includes all the above-mentioned prompts. It looks like ![this](https://github.com/ferie24/DemoNotebook/blob/main/Notebook_support/json_file.png?raw=1):\n",
    "All the keys on the left act as variables for the Cookiecutter-Tool, they have a pre-set values in the file, but those can be altered, once you run the tool. They can be accessed throughout the whole template by this name structure __{{cookiecutter.VarName}}__. Once you export it, they will change to the specified name/value.\n",
    " The first example of this is the __{{cookiecutter.project_slug}}__ directory, if you want to check them out, you can find others in the __setup.py__ file or the __authors.rst__ file."
   ]
  },
  {
   "cell_type": "code",
   "execution_count": null,
   "metadata": {
    "pycharm": {
     "name": "#%%\n"
    }
   },
   "outputs": [],
   "source": [
    "!cookiecutter cookiecutter-pypackage"
   ]
  },
  {
   "cell_type": "markdown",
   "metadata": {
    "pycharm": {
     "name": "#%% md\n"
    }
   },
   "source": [
    "> If you now take a look at folder you just created (it should have the name you put in at Project_Name) you can see it how it changed the __{{cookiecutter.project_slug}}__ directory into the Project_Name. Now you have the basic setup to push something to PyPI and you can start to code. Or you can see it here: <br>\n",
    "<img src=\"https://github.com/ferie24/DemoNotebook/blob/main/Before_Cookiecutter.png?raw=1\" width=\"300\"/> __->__ <img src=\"https://github.com/ferie24/DemoNotebook/blob/main/After_Cookiecutter.png?raw=1\" width=\"300\"/>"
   ]
  },
  {
   "cell_type": "markdown",
   "metadata": {
    "pycharm": {
     "name": "#%% md\n"
    }
   },
   "source": [
    "## The ArangomlFeatureStore template\n",
    "This installation is a bit different since it is not in the default branch of the FeautreStore repo. It is located in the felix_packaging_branch"
   ]
  },
  {
   "cell_type": "code",
   "execution_count": null,
   "metadata": {
    "pycharm": {
     "name": "#%%\n"
    }
   },
   "outputs": [],
   "source": [
    "%%capture\n",
    "!git clone -b felix_packaging_branch https://github.com/arangoml/arangomlFeatureStore templatedir"
   ]
  },
  {
   "cell_type": "markdown",
   "metadata": {
    "pycharm": {
     "name": "#%% md\n"
    }
   },
   "source": [
    "> In this clone we are first specifying the branch that includes the cookiecutter template, after that, we specify how the folder is named, in which we are cloning."
   ]
  },
  {
   "cell_type": "code",
   "execution_count": null,
   "metadata": {
    "pycharm": {
     "name": "#%%\n"
    }
   },
   "outputs": [],
   "source": [
    "!cookiecutter /content/templatedir"
   ]
  },
  {
   "cell_type": "markdown",
   "metadata": {
    "pycharm": {
     "name": "#%% md\n"
    }
   },
   "source": [
    "Once you have exported the template you should have the same layout as the Package_Branch directory from the Repo. From now you have two options on how you can Proceed.\n"
   ]
  },
  {
   "cell_type": "markdown",
   "metadata": {
    "pycharm": {
     "name": "#%% md\n"
    }
   },
   "source": [
    "## How to Use Cookiecutter"
   ]
  },
  {
   "cell_type": "markdown",
   "metadata": {
    "pycharm": {
     "name": "#%% md\n"
    }
   },
   "source": [
    "### Use case 1:\n",
    "#### Internet template:\n",
    "> You can download a template from the Internet then export it, write your code push it to git, and be based of that."
   ]
  },
  {
   "cell_type": "markdown",
   "metadata": {
    "pycharm": {
     "name": "#%% md\n"
    }
   },
   "source": [
    "### Use case 2:\n",
    "#### Update your internet template:\n",
    "> Once you downloaded the Template exported it and coded in it, you modify the previously downloaded template and add your code to it so you or others are able to download it and base their new Project based on the template."
   ]
  },
  {
   "cell_type": "markdown",
   "metadata": {
    "pycharm": {
     "name": "#%% md\n"
    }
   },
   "source": [
    "### Use case 3:\n",
    "#### Create your own template:\n",
    ">If you have a lot of projects, that require the same project structure or working directories/packages etc. You can simply create your own template and add everything you need to it:\n"
   ]
  },
  {
   "cell_type": "code",
   "execution_count": null,
   "metadata": {
    "pycharm": {
     "name": "#%%\n"
    }
   },
   "outputs": [],
   "source": [
    "!mkdir MyTemplate\n",
    "!cd Mytemplate\n",
    "!mkdir {{cookiecutter.your_project_name}}\n",
    "!nano cookiecutter.json"
   ]
  },
  {
   "cell_type": "markdown",
   "metadata": {
    "pycharm": {
     "name": "#%% md\n"
    }
   },
   "source": [
    "In here you simply write all the variables you need like this:\n",
    ">*{ <br>\n",
    "  \"full_name\": \"Felix Riemen\", <br>\n",
    "  \"github_username\": \"ferie24\", <br>\n",
    "  \"your_project_name\": \"CookieCutterProject\", <br>\n",
    "  }* <br>\n"
   ]
  },
  {
   "cell_type": "markdown",
   "metadata": {
    "pycharm": {
     "name": "#%% md\n"
    }
   },
   "source": [
    "You can ofcourse always add more variables for your project to further advance the customization, you can also create even more directories, for whatever structure you need. Once you are done, you can simply push the project or simply keep it local as a template.\n"
   ]
  }
 ],
 "metadata": {
  "kernelspec": {
   "display_name": "Python 3 (ipykernel)",
   "language": "python",
   "name": "python3"
  },
  "language_info": {
   "codemirror_mode": {
    "name": "ipython",
    "version": 2
   },
   "file_extension": ".py",
   "mimetype": "text/x-python",
   "name": "python",
   "nbconvert_exporter": "python",
   "pygments_lexer": "ipython2",
   "version": "2.7.6"
  }
 },
 "nbformat": 4,
 "nbformat_minor": 1
}