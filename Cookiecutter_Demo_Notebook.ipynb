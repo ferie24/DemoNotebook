{
 "cells": [
  {
   "cell_type": "markdown",
   "source": [
    "# Cookiecutter Notebook\n",
    "This is a Notebook to explain the use of the Cookiecutter tool overall and the ArangomlFeatureStore template.\n"
   ],
   "metadata": {
    "collapsed": false,
    "pycharm": {
     "name": "#%% md\n"
    }
   }
  },
  {
   "cell_type": "markdown",
   "source": [
    "#### Notebook Setup"
   ],
   "metadata": {
    "collapsed": false,
    "pycharm": {
     "name": "#%% md\n"
    }
   }
  },
  {
   "cell_type": "code",
   "execution_count": null,
   "outputs": [],
   "source": [
    "!git clone https://github.com/ferie24/DemoNotebook.git"
   ],
   "metadata": {
    "collapsed": false,
    "pycharm": {
     "name": "#%%\n"
    }
   }
  },
  {
   "cell_type": "markdown",
   "source": [
    "## What is Cookiecutter\n",
    "Cookiecutter is a tool that enables you to download and customise pre-set templates. You simply have to install the Cookiecutter-Tool and you are good to go. When you apply the tool on a template it will prompt you for some input for the customisation, which will look close to this, depending on the Level of customisation:"
   ],
   "metadata": {
    "collapsed": false,
    "pycharm": {
     "name": "#%% md\n"
    }
   }
  },
  {
   "cell_type": "markdown",
   "source": [
    "> *full_name [Rajiv Sambasivan]: <br>\n",
    "email [hackers@arangodb.com]: <br>\n",
    "github_username [arangoml]: <br>\n",
    "project_name [arangomlFeatureStore]:  <br>\n",
    "project_slug [arangomlfeaturestore]:  <br>\n",
    "project_short_description [A python package to read and write ML features to ArangoDB]:  <br>\n",
    "pypi_username [arangoml]:  <br>\n",
    "version [0.0.7.5]:  <br>\n",
    "use_black [n]:  <br>\n",
    "use_pytest [n]:  <br>\n",
    "Select command_line_interface:  <br>\n",
    "1 - Click  <br>\n",
    "2 - Argparse  <br>\n",
    "3 - No command-line interface  <br>\n",
    "Choose from 1, 2, 3 [1]:  <br>\n",
    "create_author_file [y]:  <br>\n",
    "Select open_source_license:  <br>\n",
    "1 - MIT license  <br>\n",
    "2 - BSD license  <br>\n",
    "3 - ISC license  <br>\n",
    "4 - Apache Software License 2.0  <br>\n",
    "5 - GNU General Public License v3  <br>\n",
    "6 - Not open source  <br>\n",
    "Choose from 1, 2, 3, 4, 5, 6 [1]:  <br>*"
   ],
   "metadata": {
    "collapsed": false,
    "pycharm": {
     "name": "#%% md\n"
    }
   }
  },
  {
   "cell_type": "markdown",
   "source": [
    "Once you have answered these questions, you are good to go to start with you project. You will have a better understanding of what cookiecutter does, once you have used it."
   ],
   "metadata": {
    "collapsed": false,
    "pycharm": {
     "name": "#%% md\n"
    }
   }
  },
  {
   "cell_type": "markdown",
   "source": [
    "## Installing Cookiecutter\n",
    "First of all we have to install cookiecutter, for which we have to create a Virtual Environment"
   ],
   "metadata": {
    "collapsed": false,
    "pycharm": {
     "name": "#%% md\n"
    }
   }
  },
  {
   "cell_type": "code",
   "execution_count": null,
   "outputs": [],
   "source": [
    "!mkdir CookiecutterProject\n",
    "!pip3 install virtualenv\n",
    "!venv CookiecutterProject/\n",
    "!pip3 install cookiecutter\n",
    "!cd CookiecutterProject\n",
    "!source CookiecutterProject/bin/active"
   ],
   "metadata": {
    "collapsed": false,
    "pycharm": {
     "name": "#%%\n"
    }
   }
  },
  {
   "cell_type": "markdown",
   "source": [
    "## Once installed we can start creating Project from templates\n",
    "There are a lot of templates online for the various different projects you can do. You can find a good selection [here](https://cookiecutter-templates.sebastianruml.name/).\n",
    "A few examples of what you can find are for example a [PyPI-Package-Template](https://github.com/audreyfeldroy/cookiecutter-pypackage)\n",
    "\n",
    "### Installing a template\n",
    "A template is very easy to install, you can either select a github repo to clone from like this (you have to be in a venv for it to work):"
   ],
   "metadata": {
    "collapsed": false,
    "pycharm": {
     "name": "#%% md\n"
    }
   }
  },
  {
   "cell_type": "code",
   "execution_count": null,
   "outputs": [],
   "source": [
    "!cookiecutter https://github.com/audreyfeldroy/cookiecutter-pypackage.git"
   ],
   "metadata": {
    "collapsed": false,
    "pycharm": {
     "name": "#%%\n"
    }
   }
  },
  {
   "cell_type": "markdown",
   "source": [
    "Alternatively you can select a directory from your computer that is a cookiecutter Template. Since this is a Notebook we still have to clone one but the process would be the same.\n"
   ],
   "metadata": {
    "collapsed": false,
    "pycharm": {
     "name": "#%% md\n"
    }
   }
  },
  {
   "cell_type": "code",
   "execution_count": null,
   "outputs": [],
   "source": [
    "!git clone https://github.com/audreyfeldroy/cookiecutter-pypackage.git"
   ],
   "metadata": {
    "collapsed": false,
    "pycharm": {
     "name": "#%%\n"
    }
   }
  },
  {
   "cell_type": "markdown",
   "source": [
    "### What does cookiecutter do\n",
    "> This is a good time to check in what cookiecutter does. If you click on the files on the left, you can see the cookiecutter-pypackage folder, when you open it you will see a __cookiecutter.json__ file, in which are all the above-mentioned prompts stored. It looks like this:\n",
    "<img src=\"/content/DemoNotebook/json_file_picture.png\" alt=\"cookiecutter.json file\">\n",
    "![cookiecutter.json](/content/DemoNotebook/json_file_picture.png)\n",
    "All the keys on the left act as variables for the Cookiecutter-Tool, they have a pre-set value in the file, but can also be altered once you run the tool. They can be accessed throughout the whole template with by __{{cookiecutter.VarName}}__, and once you export it they will change to the specified name/value.\n",
    " The first example of this is the __{{cookiecutter.project_slug}}__ directory."
   ],
   "metadata": {
    "collapsed": false,
    "pycharm": {
     "name": "#%% md\n"
    }
   }
  },
  {
   "cell_type": "code",
   "execution_count": null,
   "outputs": [],
   "source": [
    "!cookiecutter cookiecutter-pypackage"
   ],
   "metadata": {
    "collapsed": false,
    "pycharm": {
     "name": "#%%\n"
    }
   }
  },
  {
   "cell_type": "markdown",
   "source": [
    "> If you now take a look at folder you just created (it should have the name you put in at Project_Name) you can see it how it changed the __{{cookiecutter.project_slug}}__ directory into the Project_Name. Now you have the basic setup to push something to PyPI and you can start to code."
   ],
   "metadata": {
    "collapsed": false,
    "pycharm": {
     "name": "#%% md\n"
    }
   }
  },
  {
   "cell_type": "markdown",
   "source": [
    "## The ArangomlFeatureStore template\n",
    "This installation is a bit different since it is not in the default branch of the FeautreStore repo. It is located in the felix_packaging_branch"
   ],
   "metadata": {
    "collapsed": false,
    "pycharm": {
     "name": "#%% md\n"
    }
   }
  },
  {
   "cell_type": "code",
   "execution_count": null,
   "outputs": [],
   "source": [
    "!git clone -b felix_packaging_branch https://github.com/arangoml/arangomlFeatureStore templatedir"
   ],
   "metadata": {
    "collapsed": false,
    "pycharm": {
     "name": "#%%\n"
    }
   }
  },
  {
   "cell_type": "markdown",
   "source": [
    "> With this clone we are first specifying the branch with the cookiecutter layout, after we specify what the folder name is supposed to be, where we clone to."
   ],
   "metadata": {
    "collapsed": false,
    "pycharm": {
     "name": "#%% md\n"
    }
   }
  },
  {
   "cell_type": "code",
   "execution_count": null,
   "outputs": [],
   "source": [
    "!cookiecutter /content/templatedir"
   ],
   "metadata": {
    "collapsed": false,
    "pycharm": {
     "name": "#%%\n"
    }
   }
  },
  {
   "cell_type": "markdown",
   "source": [
    "Once you have exported the template you should have the same layout as the Package_Branch directory from the Repo. From now you have two options on how you can Proceed.\n"
   ],
   "metadata": {
    "collapsed": false,
    "pycharm": {
     "name": "#%% md\n"
    }
   }
  },
  {
   "cell_type": "markdown",
   "source": [
    "## How to Use Cookiecutter"
   ],
   "metadata": {
    "collapsed": false,
    "pycharm": {
     "name": "#%% md\n"
    }
   }
  },
  {
   "cell_type": "markdown",
   "source": [
    "### Use case 1:\n",
    "#### Internet template:\n",
    "> You can download a template from the Internet then export it, write your code push it to git, and simply be based of of that."
   ],
   "metadata": {
    "collapsed": false,
    "pycharm": {
     "name": "#%% md\n"
    }
   }
  },
  {
   "cell_type": "markdown",
   "source": [
    "### Use case 2:\n",
    "#### Update your internet template:\n",
    "> Once you donwloaded the Template exported it and coded in it, you can modify the previously downloaded template and add it to the Github repo, so you or others are able to download it and base their new Project based on the template."
   ],
   "metadata": {
    "collapsed": false,
    "pycharm": {
     "name": "#%% md\n"
    }
   }
  },
  {
   "cell_type": "markdown",
   "source": [
    "### Use case 3:\n",
    "#### Create your own template:\n",
    ">If you have a lot of projects, that require the same project structure or working directories/packages etc. You can simply create your own template and add everything you need to it:\n"
   ],
   "metadata": {
    "collapsed": false,
    "pycharm": {
     "name": "#%% md\n"
    }
   }
  },
  {
   "cell_type": "code",
   "execution_count": null,
   "outputs": [],
   "source": [
    "!mkdir MyTemplate\n",
    "!cd Mytemplate\n",
    "!mkdir {{cookiecutter.your_project_name}}\n",
    "!nano cookiecutter.json"
   ],
   "metadata": {
    "collapsed": false,
    "pycharm": {
     "name": "#%%\n"
    }
   }
  },
  {
   "cell_type": "markdown",
   "source": [
    "In here you simply write all the variables you need like this:\n",
    ">*{\n",
    "  \"full_name\": \"Felix Riemen\", <br>\n",
    "  \"github_username\": \"ferie24\", <br>\n",
    "  \"your_project_name\": \"CookieCutterProject\", <br>\n",
    "  }*\n",
    "You can ofcourse always add more"
   ],
   "metadata": {
    "collapsed": false,
    "pycharm": {
     "name": "#%% md\n"
    }
   }
  }
 ],
 "metadata": {
  "kernelspec": {
   "display_name": "Python 3",
   "language": "python",
   "name": "python3"
  },
  "language_info": {
   "codemirror_mode": {
    "name": "ipython",
    "version": 2
   },
   "file_extension": ".py",
   "mimetype": "text/x-python",
   "name": "python",
   "nbconvert_exporter": "python",
   "pygments_lexer": "ipython2",
   "version": "2.7.6"
  }
 },
 "nbformat": 4,
 "nbformat_minor": 0
}