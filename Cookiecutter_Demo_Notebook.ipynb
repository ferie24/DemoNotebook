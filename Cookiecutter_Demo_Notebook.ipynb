{
 "cells": [
  {
   "cell_type": "markdown",
   "source": [
    "# Cookiecutter Notebook\n",
    "This is a Notebook to explain the use of the Cookiecutter tool overall and the ArangomlFeatureStore template.\n"
   ],
   "metadata": {
    "collapsed": false,
    "pycharm": {
     "name": "#%% md\n"
    }
   }
  },
  {
   "cell_type": "markdown",
   "source": [
    "## What is Cookiecutter\n",
    "Cookiecutter is a tool that enables you to download and customise pre-set templates. You simply have to install the Cookiecutter-Tool and you are good to go. When you apply the tool on a template it will ask you for some input for the customisation:\n"
   ],
   "metadata": {
    "collapsed": false,
    "pycharm": {
     "name": "#%% md\n"
    }
   }
  },
  {
   "cell_type": "markdown",
   "source": [
    "*full_name [Rajiv Sambasivan]: |\n",
    "email [hackers@arangodb.com]: |\n",
    "github_username [arangoml]:\n",
    "project_name [arangomlFeatureStore]:\n",
    "project_slug [arangomlfeaturestore]:\n",
    "project_short_description [A python package to read and write ML features to ArangoDB]:\n",
    "pypi_username [arangoml]:\n",
    "version [0.0.7.5]:\n",
    "use_black [n]:\n",
    "use_pytest [n]:\n",
    "Select command_line_interface:\n",
    "1 - Click\n",
    "2 - Argparse\n",
    "3 - No command-line interface\n",
    "Choose from 1, 2, 3 [1]:\n",
    "create_author_file [y]:\n",
    "Select open_source_license:\n",
    "1 - MIT license\n",
    "2 - BSD license\n",
    "3 - ISC license\n",
    "4 - Apache Software License 2.0\n",
    "5 - GNU General Public License v3\n",
    "6 - Not open source\n",
    "Choose from 1, 2, 3, 4, 5, 6 [1]:*"
   ],
   "metadata": {
    "collapsed": false,
    "pycharm": {
     "name": "#%% md\n"
    }
   }
  },
  {
   "cell_type": "markdown",
   "source": [
    "## Installing Cookiecutter\n",
    "First of all we have to install cookiecutter, for which we have to create a Virtual Environment"
   ],
   "metadata": {
    "collapsed": false,
    "pycharm": {
     "name": "#%% md\n"
    }
   }
  },
  {
   "cell_type": "code",
   "execution_count": null,
   "outputs": [],
   "source": [
    "!mkdir CookiecutterProject\n",
    "!pip3 install virtualenv\n",
    "!venv CookiecutterProject/\n",
    "!pip3 install cookiecutter\n",
    "!cd CookiecutterProject"
   ],
   "metadata": {
    "collapsed": false,
    "pycharm": {
     "name": "#%%\n"
    }
   }
  },
  {
   "cell_type": "markdown",
   "source": [
    "## Once installed we can start creating Project from templates\n",
    "There are a lot of templates online for the various different projects you can do. You can find a good selection [here](https://cookiecutter-templates.sebastianruml.name/).\n",
    "A few examples of what you can find are for example a [PyPI-Package-Template](https://github.com/audreyfeldroy/cookiecutter-pypackage)\n",
    "\n",
    "### Installing a template\n",
    "A template is very easy to install, you can either select a github repo to clone from like this (you have to be in a venv for it to work):"
   ],
   "metadata": {
    "collapsed": false,
    "pycharm": {
     "name": "#%% md\n"
    }
   }
  },
  {
   "cell_type": "code",
   "execution_count": null,
   "outputs": [],
   "source": [
    "!source CookiecutterProject/bin/active\n",
    "!cookiecutter https://github.com/audreyfeldroy/cookiecutter-pypackage.git"
   ],
   "metadata": {
    "collapsed": false,
    "pycharm": {
     "name": "#%%\n"
    }
   }
  },
  {
   "cell_type": "markdown",
   "source": [
    "Alternatively you can select a directory from your computer that is a cookiecutter Template.\n"
   ],
   "metadata": {
    "collapsed": false,
    "pycharm": {
     "name": "#%% md\n"
    }
   }
  },
  {
   "cell_type": "code",
   "execution_count": null,
   "outputs": [],
   "source": [
    "cookiecutter name/of/the/dir"
   ],
   "metadata": {
    "collapsed": false,
    "pycharm": {
     "name": "#%%\n"
    }
   }
  }
 ],
 "metadata": {
  "kernelspec": {
   "display_name": "Python 3",
   "language": "python",
   "name": "python3"
  },
  "language_info": {
   "codemirror_mode": {
    "name": "ipython",
    "version": 2
   },
   "file_extension": ".py",
   "mimetype": "text/x-python",
   "name": "python",
   "nbconvert_exporter": "python",
   "pygments_lexer": "ipython2",
   "version": "2.7.6"
  }
 },
 "nbformat": 4,
 "nbformat_minor": 0
}