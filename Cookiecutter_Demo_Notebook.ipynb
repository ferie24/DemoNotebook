{
 "cells": [
  {
   "cell_type": "markdown",
   "source": [
    "# Cookiecutter Notebook\n",
    "This is a Notebook to explain the use of the Cookiecutter tool overall and the ArangomlFeatureStore template.\n"
   ],
   "metadata": {
    "collapsed": false,
    "pycharm": {
     "name": "#%% md\n"
    }
   }
  },
  {
   "cell_type": "markdown",
   "source": [
    "## Installing Cookiecutter\n",
    "First of all we have to install cookiecutter, for which we have to create a Virtual Enviroment"
   ],
   "metadata": {
    "collapsed": false,
    "pycharm": {
     "name": "#%% md\n"
    }
   }
  },
  {
   "cell_type": "code",
   "execution_count": null,
   "outputs": [],
   "source": [],
   "metadata": {
    "collapsed": false,
    "pycharm": {
     "name": "#%%\n"
    }
   }
  },
  {
   "cell_type": "code",
   "execution_count": null,
   "outputs": [],
   "source": [
    "!mkdir CookiecutterProject\n",
    "!pip3 install cookiecutter\n",
    "!python3 -m venv /CookiecutterProject\n",
    "!cd CookiecutterProject"
   ],
   "metadata": {
    "collapsed": false,
    "pycharm": {
     "name": "#%%\n"
    }
   }
  },
  {
   "cell_type": "markdown",
   "source": [
    "## Once installed we can start creating Project from templates\n",
    "There are a lot of templates online for the various different projects you can do. You can find a good selection [here](https://cookiecutter-templates.sebastianruml.name/).\n",
    "A few examples of what you can find are for example a [PyPI-Package-Template](https://github.com/audreyfeldroy/cookiecutter-pypackage)\n",
    "\n",
    "### Installing a template\n",
    "A template is very easy to install, you can either select a github repo to clone from like this(you have to be in a venv for it to work):"
   ],
   "metadata": {
    "collapsed": false,
    "pycharm": {
     "name": "#%% md\n"
    }
   }
  },
  {
   "cell_type": "code",
   "execution_count": null,
   "outputs": [],
   "source": [
    "cookiecutter https://github.com/audreyfeldroy/cookiecutter-pypackage.git"
   ],
   "metadata": {
    "collapsed": false,
    "pycharm": {
     "name": "#%%\n"
    }
   }
  },
  {
   "cell_type": "markdown",
   "source": [
    "Alternatively you can select a directory from your computer that is a cookiecutter Template.\n"
   ],
   "metadata": {
    "collapsed": false,
    "pycharm": {
     "name": "#%% md\n"
    }
   }
  },
  {
   "cell_type": "code",
   "execution_count": null,
   "outputs": [],
   "source": [
    "cookiecutter name/of/the/dir"
   ],
   "metadata": {
    "collapsed": false,
    "pycharm": {
     "name": "#%%\n"
    }
   }
  }
 ],
 "metadata": {
  "kernelspec": {
   "display_name": "Python 3",
   "language": "python",
   "name": "python3"
  },
  "language_info": {
   "codemirror_mode": {
    "name": "ipython",
    "version": 2
   },
   "file_extension": ".py",
   "mimetype": "text/x-python",
   "name": "python",
   "nbconvert_exporter": "python",
   "pygments_lexer": "ipython2",
   "version": "2.7.6"
  }
 },
 "nbformat": 4,
 "nbformat_minor": 0
}